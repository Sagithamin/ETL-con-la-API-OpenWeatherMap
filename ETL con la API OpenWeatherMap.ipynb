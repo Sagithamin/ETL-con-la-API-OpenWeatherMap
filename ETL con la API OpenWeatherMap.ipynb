{
 "cells": [
  {
   "cell_type": "markdown",
   "id": "f0be00f6",
   "metadata": {},
   "source": [
    "# ETL con la API OpenWeatherMap\n",
    "\n",
    "El siguiente es un ETL realizado con la API de OpenWeatherMap en su sitio web https://home.openweathermap.org/api_keys"
   ]
  },
  {
   "cell_type": "markdown",
   "id": "79b8434b",
   "metadata": {},
   "source": [
    "Se empieza importando las librerias, principalmente requests y jason para el tratamiento de los objetos json que se tenga en respuesta."
   ]
  },
  {
   "cell_type": "code",
   "execution_count": 107,
   "id": "b3f0219c",
   "metadata": {},
   "outputs": [],
   "source": [
    "import requests\n",
    "import pandas as pd\n",
    "import matplotlib.pyplot as plt\n",
    "import seaborn as sns\n",
    "import json"
   ]
  },
  {
   "cell_type": "markdown",
   "id": "1cad714d",
   "metadata": {},
   "source": [
    "Se inicializan estas variables, analizaré London"
   ]
  },
  {
   "cell_type": "code",
   "execution_count": 108,
   "id": "4e8533aa",
   "metadata": {},
   "outputs": [],
   "source": [
    "url = 'https://api.openweathermap.org/data/2.5/forecast'\n",
    "api_key = '9a37067b5a201aa7eec4eaec76921d29'\n",
    "city = 'London'\n",
    "units = 'metric'"
   ]
  },
  {
   "cell_type": "markdown",
   "id": "5b56afde",
   "metadata": {},
   "source": [
    "Se pasan las variables anteriores a los parametros y se empiezan a recolectar los datos."
   ]
  },
  {
   "cell_type": "code",
   "execution_count": 109,
   "id": "7df1baee",
   "metadata": {},
   "outputs": [],
   "source": [
    "params = {'q': city, 'appid': api_key, 'units': units}\n",
    "response = requests.get(url, params=params)\n",
    "data = response.json()"
   ]
  },
  {
   "cell_type": "markdown",
   "id": "68730dbb",
   "metadata": {},
   "source": [
    "Este paso lo utilizo para poder visualizar el objeto json, y las estructuras de tipo diccionario que tiene."
   ]
  },
  {
   "cell_type": "code",
   "execution_count": 110,
   "id": "80c072be",
   "metadata": {},
   "outputs": [
    {
     "name": "stdout",
     "output_type": "stream",
     "text": [
      "{\"cod\": \"200\", \"message\": 0, \"cnt\": 40, \"list\": [{\"dt\": 1677726000, \"main\": {\"temp\": 2.79, \"feels_like\": 0.24, \"temp_min\": 2.22, \"temp_max\": 2.79, \"pressure\": 1024, \"sea_level\": 1024, \"grnd_level\": 1021, \"humidity\": 83, \"temp_kf\": 0.57}, \"weather\": [{\"id\": 803, \"main\": \"Clouds\", \"description\": \"broken clouds\", \"icon\": \"04n\"}], \"clouds\": {\"all\": 52}, \"wind\": {\"speed\": 2.55, \"deg\": 30, \"gust\": 8.2}, \"visibility\": 10000, \"pop\": 0, \"sys\": {\"pod\": \"n\"}, \"dt_txt\": \"2023-03-02 03:00:00\"}, {\"dt\": 1677736800, \"main\": {\"temp\": 2.17, \"feels_like\": -0.65, \"temp_min\": 1.72, \"temp_max\": 2.17, \"pressure\": 1025, \"sea_level\": 1025, \"grnd_level\": 1022, \"humidity\": 85, \"temp_kf\": 0.45}, \"weather\": [{\"id\": 802, \"main\": \"Clouds\", \"description\": \"scattered clouds\", \"icon\": \"03n\"}], \"clouds\": {\"all\": 27}, \"wind\": {\"speed\": 2.72, \"deg\": 29, \"gust\": 8.72}, \"visibility\": 10000, \"pop\": 0, \"sys\": {\"pod\": \"n\"}, \"dt_txt\": \"2023-03-02 06:00:00\"}, {\"dt\": 1677747600, \"main\": {\"temp\": 4.02, \"feels_like\": 0.8, \"temp_min\": 4.02, \"temp_max\": 4.02, \"pressure\": 1026, \"sea_level\": 1026, \"grnd_level\": 1022, \"humidity\": 74, \"temp_kf\": 0}, \"weather\": [{\"id\": 800, \"main\": \"Clear\", \"description\": \"clear sky\", \"icon\": \"01d\"}], \"clouds\": {\"all\": 1}, \"wind\": {\"speed\": 3.76, \"deg\": 48, \"gust\": 9.4}, \"visibility\": 10000, \"pop\": 0, \"sys\": {\"pod\": \"d\"}, \"dt_txt\": \"2023-03-02 09:00:00\"}, {\"dt\": 1677758400, \"main\": {\"temp\": 8.34, \"feels_like\": 5.88, \"temp_min\": 8.34, \"temp_max\": 8.34, \"pressure\": 1026, \"sea_level\": 1026, \"grnd_level\": 1023, \"humidity\": 53, \"temp_kf\": 0}, \"weather\": [{\"id\": 800, \"main\": \"Clear\", \"description\": \"clear sky\", \"icon\": \"01d\"}], \"clouds\": {\"all\": 3}, \"wind\": {\"speed\": 4.17, \"deg\": 56, \"gust\": 6.11}, \"visibility\": 10000, \"pop\": 0, \"sys\": {\"pod\": \"d\"}, \"dt_txt\": \"2023-03-02 12:00:00\"}, {\"dt\": 1677769200, \"main\": {\"temp\": 9.77, \"feels_like\": 7.59, \"temp_min\": 9.77, \"temp_max\": 9.77, \"pressure\": 1025, \"sea_level\": 1025, \"grnd_level\": 1022, \"humidity\": 50, \"temp_kf\": 0}, \"weather\": [{\"id\": 800, \"main\": \"Clear\", \"description\": \"clear sky\", \"icon\": \"01d\"}], \"clouds\": {\"all\": 6}, \"wind\": {\"speed\": 4.3, \"deg\": 48, \"gust\": 5.91}, \"visibility\": 10000, \"pop\": 0, \"sys\": {\"pod\": \"d\"}, \"dt_txt\": \"2023-03-02 15:00:00\"}, {\"dt\": 1677780000, \"main\": {\"temp\": 7.52, \"feels_like\": 5.29, \"temp_min\": 7.52, \"temp_max\": 7.52, \"pressure\": 1026, \"sea_level\": 1026, \"grnd_level\": 1023, \"humidity\": 68, \"temp_kf\": 0}, \"weather\": [{\"id\": 800, \"main\": \"Clear\", \"description\": \"clear sky\", \"icon\": \"01n\"}], \"clouds\": {\"all\": 6}, \"wind\": {\"speed\": 3.39, \"deg\": 45, \"gust\": 7.3}, \"visibility\": 10000, \"pop\": 0, \"sys\": {\"pod\": \"n\"}, \"dt_txt\": \"2023-03-02 18:00:00\"}, {\"dt\": 1677790800, \"main\": {\"temp\": 4.93, \"feels_like\": 2.34, \"temp_min\": 4.93, \"temp_max\": 4.93, \"pressure\": 1028, \"sea_level\": 1028, \"grnd_level\": 1024, \"humidity\": 81, \"temp_kf\": 0}, \"weather\": [{\"id\": 800, \"main\": \"Clear\", \"description\": \"clear sky\", \"icon\": \"01n\"}], \"clouds\": {\"all\": 5}, \"wind\": {\"speed\": 3.12, \"deg\": 37, \"gust\": 8.14}, \"visibility\": 10000, \"pop\": 0, \"sys\": {\"pod\": \"n\"}, \"dt_txt\": \"2023-03-02 21:00:00\"}, {\"dt\": 1677801600, \"main\": {\"temp\": 3.5, \"feels_like\": 0.67, \"temp_min\": 3.5, \"temp_max\": 3.5, \"pressure\": 1028, \"sea_level\": 1028, \"grnd_level\": 1025, \"humidity\": 89, \"temp_kf\": 0}, \"weather\": [{\"id\": 800, \"main\": \"Clear\", \"description\": \"clear sky\", \"icon\": \"01n\"}], \"clouds\": {\"all\": 4}, \"wind\": {\"speed\": 3.04, \"deg\": 26, \"gust\": 8.5}, \"visibility\": 10000, \"pop\": 0, \"sys\": {\"pod\": \"n\"}, \"dt_txt\": \"2023-03-03 00:00:00\"}, {\"dt\": 1677812400, \"main\": {\"temp\": 2.71, \"feels_like\": -0.03, \"temp_min\": 2.71, \"temp_max\": 2.71, \"pressure\": 1028, \"sea_level\": 1028, \"grnd_level\": 1024, \"humidity\": 92, \"temp_kf\": 0}, \"weather\": [{\"id\": 800, \"main\": \"Clear\", \"description\": \"clear sky\", \"icon\": \"01n\"}], \"clouds\": {\"all\": 8}, \"wind\": {\"speed\": 2.74, \"deg\": 19, \"gust\": 8.12}, \"visibility\": 10000, \"pop\": 0, \"sys\": {\"pod\": \"n\"}, \"dt_txt\": \"2023-03-03 03:00:00\"}, {\"dt\": 1677823200, \"main\": {\"temp\": 2.1, \"feels_like\": -0.84, \"temp_min\": 2.1, \"temp_max\": 2.1, \"pressure\": 1028, \"sea_level\": 1028, \"grnd_level\": 1024, \"humidity\": 95, \"temp_kf\": 0}, \"weather\": [{\"id\": 801, \"main\": \"Clouds\", \"description\": \"few clouds\", \"icon\": \"02n\"}], \"clouds\": {\"all\": 18}, \"wind\": {\"speed\": 2.84, \"deg\": 13, \"gust\": 8.78}, \"visibility\": 10000, \"pop\": 0, \"sys\": {\"pod\": \"n\"}, \"dt_txt\": \"2023-03-03 06:00:00\"}, {\"dt\": 1677834000, \"main\": {\"temp\": 3.56, \"feels_like\": 0.35, \"temp_min\": 3.56, \"temp_max\": 3.56, \"pressure\": 1029, \"sea_level\": 1029, \"grnd_level\": 1026, \"humidity\": 88, \"temp_kf\": 0}, \"weather\": [{\"id\": 803, \"main\": \"Clouds\", \"description\": \"broken clouds\", \"icon\": \"04d\"}], \"clouds\": {\"all\": 78}, \"wind\": {\"speed\": 3.59, \"deg\": 19, \"gust\": 6.86}, \"visibility\": 10000, \"pop\": 0, \"sys\": {\"pod\": \"d\"}, \"dt_txt\": \"2023-03-03 09:00:00\"}, {\"dt\": 1677844800, \"main\": {\"temp\": 7.96, \"feels_like\": 5.82, \"temp_min\": 7.96, \"temp_max\": 7.96, \"pressure\": 1029, \"sea_level\": 1029, \"grnd_level\": 1026, \"humidity\": 60, \"temp_kf\": 0}, \"weather\": [{\"id\": 803, \"main\": \"Clouds\", \"description\": \"broken clouds\", \"icon\": \"04d\"}], \"clouds\": {\"all\": 77}, \"wind\": {\"speed\": 3.4, \"deg\": 28, \"gust\": 5.32}, \"visibility\": 10000, \"pop\": 0, \"sys\": {\"pod\": \"d\"}, \"dt_txt\": \"2023-03-03 12:00:00\"}, {\"dt\": 1677855600, \"main\": {\"temp\": 9.98, \"feels_like\": 8.02, \"temp_min\": 9.98, \"temp_max\": 9.98, \"pressure\": 1028, \"sea_level\": 1028, \"grnd_level\": 1025, \"humidity\": 52, \"temp_kf\": 0}, \"weather\": [{\"id\": 800, \"main\": \"Clear\", \"description\": \"clear sky\", \"icon\": \"01d\"}], \"clouds\": {\"all\": 7}, \"wind\": {\"speed\": 3.91, \"deg\": 19, \"gust\": 5.49}, \"visibility\": 10000, \"pop\": 0, \"sys\": {\"pod\": \"d\"}, \"dt_txt\": \"2023-03-03 15:00:00\"}, {\"dt\": 1677866400, \"main\": {\"temp\": 7.36, \"feels_like\": 4.81, \"temp_min\": 7.36, \"temp_max\": 7.36, \"pressure\": 1029, \"sea_level\": 1029, \"grnd_level\": 1025, \"humidity\": 67, \"temp_kf\": 0}, \"weather\": [{\"id\": 800, \"main\": \"Clear\", \"description\": \"clear sky\", \"icon\": \"01n\"}], \"clouds\": {\"all\": 6}, \"wind\": {\"speed\": 3.91, \"deg\": 11, \"gust\": 7.78}, \"visibility\": 10000, \"pop\": 0, \"sys\": {\"pod\": \"n\"}, \"dt_txt\": \"2023-03-03 18:00:00\"}, {\"dt\": 1677877200, \"main\": {\"temp\": 4.95, \"feels_like\": 2.33, \"temp_min\": 4.95, \"temp_max\": 4.95, \"pressure\": 1030, \"sea_level\": 1030, \"grnd_level\": 1026, \"humidity\": 84, \"temp_kf\": 0}, \"weather\": [{\"id\": 800, \"main\": \"Clear\", \"description\": \"clear sky\", \"icon\": \"01n\"}], \"clouds\": {\"all\": 1}, \"wind\": {\"speed\": 3.16, \"deg\": 17, \"gust\": 8.76}, \"visibility\": 10000, \"pop\": 0, \"sys\": {\"pod\": \"n\"}, \"dt_txt\": \"2023-03-03 21:00:00\"}, {\"dt\": 1677888000, \"main\": {\"temp\": 3.73, \"feels_like\": 1.12, \"temp_min\": 3.73, \"temp_max\": 3.73, \"pressure\": 1030, \"sea_level\": 1030, \"grnd_level\": 1027, \"humidity\": 89, \"temp_kf\": 0}, \"weather\": [{\"id\": 800, \"main\": \"Clear\", \"description\": \"clear sky\", \"icon\": \"01n\"}], \"clouds\": {\"all\": 1}, \"wind\": {\"speed\": 2.82, \"deg\": 8, \"gust\": 8.75}, \"visibility\": 10000, \"pop\": 0, \"sys\": {\"pod\": \"n\"}, \"dt_txt\": \"2023-03-04 00:00:00\"}, {\"dt\": 1677898800, \"main\": {\"temp\": 2.8, \"feels_like\": 0.33, \"temp_min\": 2.8, \"temp_max\": 2.8, \"pressure\": 1030, \"sea_level\": 1030, \"grnd_level\": 1026, \"humidity\": 89, \"temp_kf\": 0}, \"weather\": [{\"id\": 800, \"main\": \"Clear\", \"description\": \"clear sky\", \"icon\": \"01n\"}], \"clouds\": {\"all\": 3}, \"wind\": {\"speed\": 2.46, \"deg\": 1, \"gust\": 7.79}, \"visibility\": 10000, \"pop\": 0, \"sys\": {\"pod\": \"n\"}, \"dt_txt\": \"2023-03-04 03:00:00\"}, {\"dt\": 1677909600, \"main\": {\"temp\": 2, \"feels_like\": -0.56, \"temp_min\": 2, \"temp_max\": 2, \"pressure\": 1030, \"sea_level\": 1030, \"grnd_level\": 1026, \"humidity\": 90, \"temp_kf\": 0}, \"weather\": [{\"id\": 800, \"main\": \"Clear\", \"description\": \"clear sky\", \"icon\": \"01n\"}], \"clouds\": {\"all\": 4}, \"wind\": {\"speed\": 2.4, \"deg\": 356, \"gust\": 7.62}, \"visibility\": 10000, \"pop\": 0, \"sys\": {\"pod\": \"n\"}, \"dt_txt\": \"2023-03-04 06:00:00\"}, {\"dt\": 1677920400, \"main\": {\"temp\": 4.59, \"feels_like\": 1.83, \"temp_min\": 4.59, \"temp_max\": 4.59, \"pressure\": 1031, \"sea_level\": 1031, \"grnd_level\": 1027, \"humidity\": 73, \"temp_kf\": 0}, \"weather\": [{\"id\": 801, \"main\": \"Clouds\", \"description\": \"few clouds\", \"icon\": \"02d\"}], \"clouds\": {\"all\": 22}, \"wind\": {\"speed\": 3.26, \"deg\": 10, \"gust\": 6.23}, \"visibility\": 10000, \"pop\": 0, \"sys\": {\"pod\": \"d\"}, \"dt_txt\": \"2023-03-04 09:00:00\"}, {\"dt\": 1677931200, \"main\": {\"temp\": 7.97, \"feels_like\": 5.87, \"temp_min\": 7.97, \"temp_max\": 7.97, \"pressure\": 1030, \"sea_level\": 1030, \"grnd_level\": 1026, \"humidity\": 54, \"temp_kf\": 0}, \"weather\": [{\"id\": 802, \"main\": \"Clouds\", \"description\": \"scattered clouds\", \"icon\": \"03d\"}], \"clouds\": {\"all\": 48}, \"wind\": {\"speed\": 3.34, \"deg\": 22, \"gust\": 5.01}, \"visibility\": 10000, \"pop\": 0, \"sys\": {\"pod\": \"d\"}, \"dt_txt\": \"2023-03-04 12:00:00\"}, {\"dt\": 1677942000, \"main\": {\"temp\": 8.27, \"feels_like\": 5.94, \"temp_min\": 8.27, \"temp_max\": 8.27, \"pressure\": 1028, \"sea_level\": 1028, \"grnd_level\": 1025, \"humidity\": 55, \"temp_kf\": 0}, \"weather\": [{\"id\": 800, \"main\": \"Clear\", \"description\": \"clear sky\", \"icon\": \"01d\"}], \"clouds\": {\"all\": 7}, \"wind\": {\"speed\": 3.88, \"deg\": 34, \"gust\": 4.94}, \"visibility\": 10000, \"pop\": 0, \"sys\": {\"pod\": \"d\"}, \"dt_txt\": \"2023-03-04 15:00:00\"}, {\"dt\": 1677952800, \"main\": {\"temp\": 6.34, \"feels_like\": 4.62, \"temp_min\": 6.34, \"temp_max\": 6.34, \"pressure\": 1028, \"sea_level\": 1028, \"grnd_level\": 1024, \"humidity\": 61, \"temp_kf\": 0}, \"weather\": [{\"id\": 801, \"main\": \"Clouds\", \"description\": \"few clouds\", \"icon\": \"02n\"}], \"clouds\": {\"all\": 20}, \"wind\": {\"speed\": 2.34, \"deg\": 27, \"gust\": 4.35}, \"visibility\": 10000, \"pop\": 0, \"sys\": {\"pod\": \"n\"}, \"dt_txt\": \"2023-03-04 18:00:00\"}, {\"dt\": 1677963600, \"main\": {\"temp\": 5.06, \"feels_like\": 5.06, \"temp_min\": 5.06, \"temp_max\": 5.06, \"pressure\": 1027, \"sea_level\": 1027, \"grnd_level\": 1024, \"humidity\": 64, \"temp_kf\": 0}, \"weather\": [{\"id\": 802, \"main\": \"Clouds\", \"description\": \"scattered clouds\", \"icon\": \"03n\"}], \"clouds\": {\"all\": 42}, \"wind\": {\"speed\": 1.18, \"deg\": 13, \"gust\": 1.38}, \"visibility\": 10000, \"pop\": 0, \"sys\": {\"pod\": \"n\"}, \"dt_txt\": \"2023-03-04 21:00:00\"}, {\"dt\": 1677974400, \"main\": {\"temp\": 4.64, \"feels_like\": 4.64, \"temp_min\": 4.64, \"temp_max\": 4.64, \"pressure\": 1025, \"sea_level\": 1025, \"grnd_level\": 1022, \"humidity\": 64, \"temp_kf\": 0}, \"weather\": [{\"id\": 802, \"main\": \"Clouds\", \"description\": \"scattered clouds\", \"icon\": \"03n\"}], \"clouds\": {\"all\": 49}, \"wind\": {\"speed\": 0.91, \"deg\": 10, \"gust\": 0.92}, \"visibility\": 10000, \"pop\": 0, \"sys\": {\"pod\": \"n\"}, \"dt_txt\": \"2023-03-05 00:00:00\"}, {\"dt\": 1677985200, \"main\": {\"temp\": 3.85, \"feels_like\": 3.85, \"temp_min\": 3.85, \"temp_max\": 3.85, \"pressure\": 1023, \"sea_level\": 1023, \"grnd_level\": 1020, \"humidity\": 68, \"temp_kf\": 0}, \"weather\": [{\"id\": 804, \"main\": \"Clouds\", \"description\": \"overcast clouds\", \"icon\": \"04n\"}], \"clouds\": {\"all\": 100}, \"wind\": {\"speed\": 0.75, \"deg\": 220, \"gust\": 0.95}, \"visibility\": 10000, \"pop\": 0, \"sys\": {\"pod\": \"n\"}, \"dt_txt\": \"2023-03-05 03:00:00\"}, {\"dt\": 1677996000, \"main\": {\"temp\": 3.98, \"feels_like\": 2.61, \"temp_min\": 3.98, \"temp_max\": 3.98, \"pressure\": 1021, \"sea_level\": 1021, \"grnd_level\": 1018, \"humidity\": 69, \"temp_kf\": 0}, \"weather\": [{\"id\": 804, \"main\": \"Clouds\", \"description\": \"overcast clouds\", \"icon\": \"04n\"}], \"clouds\": {\"all\": 100}, \"wind\": {\"speed\": 1.63, \"deg\": 230, \"gust\": 2.93}, \"visibility\": 10000, \"pop\": 0, \"sys\": {\"pod\": \"n\"}, \"dt_txt\": \"2023-03-05 06:00:00\"}, {\"dt\": 1678006800, \"main\": {\"temp\": 4.25, \"feels_like\": 2.46, \"temp_min\": 4.25, \"temp_max\": 4.25, \"pressure\": 1020, \"sea_level\": 1020, \"grnd_level\": 1017, \"humidity\": 70, \"temp_kf\": 0}, \"weather\": [{\"id\": 804, \"main\": \"Clouds\", \"description\": \"overcast clouds\", \"icon\": \"04d\"}], \"clouds\": {\"all\": 100}, \"wind\": {\"speed\": 2.03, \"deg\": 243, \"gust\": 3.73}, \"visibility\": 10000, \"pop\": 0, \"sys\": {\"pod\": \"d\"}, \"dt_txt\": \"2023-03-05 09:00:00\"}, {\"dt\": 1678017600, \"main\": {\"temp\": 6.17, \"feels_like\": 4.59, \"temp_min\": 6.17, \"temp_max\": 6.17, \"pressure\": 1018, \"sea_level\": 1018, \"grnd_level\": 1015, \"humidity\": 67, \"temp_kf\": 0}, \"weather\": [{\"id\": 804, \"main\": \"Clouds\", \"description\": \"overcast clouds\", \"icon\": \"04d\"}], \"clouds\": {\"all\": 100}, \"wind\": {\"speed\": 2.15, \"deg\": 254, \"gust\": 3.43}, \"visibility\": 10000, \"pop\": 0, \"sys\": {\"pod\": \"d\"}, \"dt_txt\": \"2023-03-05 12:00:00\"}, {\"dt\": 1678028400, \"main\": {\"temp\": 6.61, \"feels_like\": 5.58, \"temp_min\": 6.61, \"temp_max\": 6.61, \"pressure\": 1016, \"sea_level\": 1016, \"grnd_level\": 1012, \"humidity\": 64, \"temp_kf\": 0}, \"weather\": [{\"id\": 500, \"main\": \"Rain\", \"description\": \"light rain\", \"icon\": \"10d\"}], \"clouds\": {\"all\": 100}, \"wind\": {\"speed\": 1.67, \"deg\": 347, \"gust\": 1.82}, \"visibility\": 10000, \"pop\": 0.36, \"rain\": {\"3h\": 0.16}, \"sys\": {\"pod\": \"d\"}, \"dt_txt\": \"2023-03-05 15:00:00\"}, {\"dt\": 1678039200, \"main\": {\"temp\": 5.17, \"feels_like\": 4.09, \"temp_min\": 5.17, \"temp_max\": 5.17, \"pressure\": 1014, \"sea_level\": 1014, \"grnd_level\": 1011, \"humidity\": 78, \"temp_kf\": 0}, \"weather\": [{\"id\": 500, \"main\": \"Rain\", \"description\": \"light rain\", \"icon\": \"10n\"}], \"clouds\": {\"all\": 100}, \"wind\": {\"speed\": 1.54, \"deg\": 49, \"gust\": 1.76}, \"visibility\": 10000, \"pop\": 0.32, \"rain\": {\"3h\": 0.15}, \"sys\": {\"pod\": \"n\"}, \"dt_txt\": \"2023-03-05 18:00:00\"}, {\"dt\": 1678050000, \"main\": {\"temp\": 4.58, \"feels_like\": 4.58, \"temp_min\": 4.58, \"temp_max\": 4.58, \"pressure\": 1013, \"sea_level\": 1013, \"grnd_level\": 1010, \"humidity\": 82, \"temp_kf\": 0}, \"weather\": [{\"id\": 500, \"main\": \"Rain\", \"description\": \"light rain\", \"icon\": \"10n\"}], \"clouds\": {\"all\": 100}, \"wind\": {\"speed\": 1.24, \"deg\": 78, \"gust\": 1.6}, \"visibility\": 10000, \"pop\": 0.28, \"rain\": {\"3h\": 0.24}, \"sys\": {\"pod\": \"n\"}, \"dt_txt\": \"2023-03-05 21:00:00\"}, {\"dt\": 1678060800, \"main\": {\"temp\": 3.81, \"feels_like\": 3.81, \"temp_min\": 3.81, \"temp_max\": 3.81, \"pressure\": 1011, \"sea_level\": 1011, \"grnd_level\": 1008, \"humidity\": 85, \"temp_kf\": 0}, \"weather\": [{\"id\": 500, \"main\": \"Rain\", \"description\": \"light rain\", \"icon\": \"10n\"}], \"clouds\": {\"all\": 100}, \"wind\": {\"speed\": 1.23, \"deg\": 83, \"gust\": 1.96}, \"visibility\": 10000, \"pop\": 0.4, \"rain\": {\"3h\": 0.15}, \"sys\": {\"pod\": \"n\"}, \"dt_txt\": \"2023-03-06 00:00:00\"}, {\"dt\": 1678071600, \"main\": {\"temp\": 3.04, \"feels_like\": 3.04, \"temp_min\": 3.04, \"temp_max\": 3.04, \"pressure\": 1010, \"sea_level\": 1010, \"grnd_level\": 1007, \"humidity\": 89, \"temp_kf\": 0}, \"weather\": [{\"id\": 804, \"main\": \"Clouds\", \"description\": \"overcast clouds\", \"icon\": \"04n\"}], \"clouds\": {\"all\": 100}, \"wind\": {\"speed\": 1.14, \"deg\": 41, \"gust\": 2}, \"visibility\": 10000, \"pop\": 0.04, \"sys\": {\"pod\": \"n\"}, \"dt_txt\": \"2023-03-06 03:00:00\"}, {\"dt\": 1678082400, \"main\": {\"temp\": 3.01, \"feels_like\": 3.01, \"temp_min\": 3.01, \"temp_max\": 3.01, \"pressure\": 1008, \"sea_level\": 1008, \"grnd_level\": 1005, \"humidity\": 85, \"temp_kf\": 0}, \"weather\": [{\"id\": 804, \"main\": \"Clouds\", \"description\": \"overcast clouds\", \"icon\": \"04n\"}], \"clouds\": {\"all\": 100}, \"wind\": {\"speed\": 1.27, \"deg\": 66, \"gust\": 3.1}, \"visibility\": 10000, \"pop\": 0.02, \"sys\": {\"pod\": \"n\"}, \"dt_txt\": \"2023-03-06 06:00:00\"}, {\"dt\": 1678093200, \"main\": {\"temp\": 3.61, \"feels_like\": 1.92, \"temp_min\": 3.61, \"temp_max\": 3.61, \"pressure\": 1007, \"sea_level\": 1007, \"grnd_level\": 1004, \"humidity\": 84, \"temp_kf\": 0}, \"weather\": [{\"id\": 804, \"main\": \"Clouds\", \"description\": \"overcast clouds\", \"icon\": \"04d\"}], \"clouds\": {\"all\": 100}, \"wind\": {\"speed\": 1.85, \"deg\": 67, \"gust\": 2.81}, \"visibility\": 10000, \"pop\": 0, \"sys\": {\"pod\": \"d\"}, \"dt_txt\": \"2023-03-06 09:00:00\"}, {\"dt\": 1678104000, \"main\": {\"temp\": 4.66, \"feels_like\": 2.95, \"temp_min\": 4.66, \"temp_max\": 4.66, \"pressure\": 1005, \"sea_level\": 1005, \"grnd_level\": 1002, \"humidity\": 79, \"temp_kf\": 0}, \"weather\": [{\"id\": 500, \"main\": \"Rain\", \"description\": \"light rain\", \"icon\": \"10d\"}], \"clouds\": {\"all\": 100}, \"wind\": {\"speed\": 2.02, \"deg\": 46, \"gust\": 2.18}, \"visibility\": 9139, \"pop\": 0.38, \"rain\": {\"3h\": 0.26}, \"sys\": {\"pod\": \"d\"}, \"dt_txt\": \"2023-03-06 12:00:00\"}, {\"dt\": 1678114800, \"main\": {\"temp\": 4.12, \"feels_like\": 1.62, \"temp_min\": 4.12, \"temp_max\": 4.12, \"pressure\": 1003, \"sea_level\": 1003, \"grnd_level\": 1000, \"humidity\": 90, \"temp_kf\": 0}, \"weather\": [{\"id\": 500, \"main\": \"Rain\", \"description\": \"light rain\", \"icon\": \"10d\"}], \"clouds\": {\"all\": 100}, \"wind\": {\"speed\": 2.78, \"deg\": 41, \"gust\": 3.35}, \"visibility\": 329, \"pop\": 0.78, \"rain\": {\"3h\": 0.51}, \"sys\": {\"pod\": \"d\"}, \"dt_txt\": \"2023-03-06 15:00:00\"}, {\"dt\": 1678125600, \"main\": {\"temp\": 2.95, \"feels_like\": 0.27, \"temp_min\": 2.95, \"temp_max\": 2.95, \"pressure\": 1002, \"sea_level\": 1002, \"grnd_level\": 998, \"humidity\": 94, \"temp_kf\": 0}, \"weather\": [{\"id\": 500, \"main\": \"Rain\", \"description\": \"light rain\", \"icon\": \"10n\"}], \"clouds\": {\"all\": 100}, \"wind\": {\"speed\": 2.73, \"deg\": 53, \"gust\": 5.21}, \"visibility\": 69, \"pop\": 0.74, \"rain\": {\"3h\": 0.45}, \"sys\": {\"pod\": \"n\"}, \"dt_txt\": \"2023-03-06 18:00:00\"}, {\"dt\": 1678136400, \"main\": {\"temp\": 2.77, \"feels_like\": -0.56, \"temp_min\": 2.77, \"temp_max\": 2.77, \"pressure\": 1000, \"sea_level\": 1000, \"grnd_level\": 997, \"humidity\": 92, \"temp_kf\": 0}, \"weather\": [{\"id\": 600, \"main\": \"Snow\", \"description\": \"light snow\", \"icon\": \"13n\"}], \"clouds\": {\"all\": 100}, \"wind\": {\"speed\": 3.51, \"deg\": 36, \"gust\": 7.97}, \"visibility\": 10000, \"pop\": 0.3, \"snow\": {\"3h\": 0.19}, \"sys\": {\"pod\": \"n\"}, \"dt_txt\": \"2023-03-06 21:00:00\"}, {\"dt\": 1678147200, \"main\": {\"temp\": 2.52, \"feels_like\": -1.39, \"temp_min\": 2.52, \"temp_max\": 2.52, \"pressure\": 999, \"sea_level\": 999, \"grnd_level\": 996, \"humidity\": 89, \"temp_kf\": 0}, \"weather\": [{\"id\": 600, \"main\": \"Snow\", \"description\": \"light snow\", \"icon\": \"13n\"}], \"clouds\": {\"all\": 100}, \"wind\": {\"speed\": 4.33, \"deg\": 25, \"gust\": 9.09}, \"visibility\": 10000, \"pop\": 0.34, \"snow\": {\"3h\": 0.12}, \"sys\": {\"pod\": \"n\"}, \"dt_txt\": \"2023-03-07 00:00:00\"}], \"city\": {\"id\": 2643743, \"name\": \"London\", \"coord\": {\"lat\": 51.5085, \"lon\": -0.1257}, \"country\": \"GB\", \"population\": 1000000, \"timezone\": 0, \"sunrise\": 1677739479, \"sunset\": 1677778869}}\n"
     ]
    }
   ],
   "source": [
    "output = json.dumps(data)\n",
    "print(output)"
   ]
  },
  {
   "cell_type": "markdown",
   "id": "d7d74480",
   "metadata": {},
   "source": [
    "Se transforma el formato json a dataframe de pandas, la columna dt a tipo datetime."
   ]
  },
  {
   "cell_type": "code",
   "execution_count": 111,
   "id": "b621feb0",
   "metadata": {},
   "outputs": [],
   "source": [
    "df = pd.json_normalize(data[\"list\"])\n",
    "df['dt'] = pd.to_datetime(df['dt'], unit='s')\n",
    "df = df.set_index('dt')"
   ]
  },
  {
   "cell_type": "code",
   "execution_count": 112,
   "id": "62281f94",
   "metadata": {},
   "outputs": [
    {
     "data": {
      "text/html": [
       "<div>\n",
       "<style scoped>\n",
       "    .dataframe tbody tr th:only-of-type {\n",
       "        vertical-align: middle;\n",
       "    }\n",
       "\n",
       "    .dataframe tbody tr th {\n",
       "        vertical-align: top;\n",
       "    }\n",
       "\n",
       "    .dataframe thead th {\n",
       "        text-align: right;\n",
       "    }\n",
       "</style>\n",
       "<table border=\"1\" class=\"dataframe\">\n",
       "  <thead>\n",
       "    <tr style=\"text-align: right;\">\n",
       "      <th></th>\n",
       "      <th>weather</th>\n",
       "      <th>visibility</th>\n",
       "      <th>pop</th>\n",
       "      <th>dt_txt</th>\n",
       "      <th>main.temp</th>\n",
       "      <th>main.feels_like</th>\n",
       "      <th>main.temp_min</th>\n",
       "      <th>main.temp_max</th>\n",
       "      <th>main.pressure</th>\n",
       "      <th>main.sea_level</th>\n",
       "      <th>main.grnd_level</th>\n",
       "      <th>main.humidity</th>\n",
       "      <th>main.temp_kf</th>\n",
       "      <th>clouds.all</th>\n",
       "      <th>wind.speed</th>\n",
       "      <th>wind.deg</th>\n",
       "      <th>wind.gust</th>\n",
       "      <th>sys.pod</th>\n",
       "      <th>rain.3h</th>\n",
       "      <th>snow.3h</th>\n",
       "    </tr>\n",
       "    <tr>\n",
       "      <th>dt</th>\n",
       "      <th></th>\n",
       "      <th></th>\n",
       "      <th></th>\n",
       "      <th></th>\n",
       "      <th></th>\n",
       "      <th></th>\n",
       "      <th></th>\n",
       "      <th></th>\n",
       "      <th></th>\n",
       "      <th></th>\n",
       "      <th></th>\n",
       "      <th></th>\n",
       "      <th></th>\n",
       "      <th></th>\n",
       "      <th></th>\n",
       "      <th></th>\n",
       "      <th></th>\n",
       "      <th></th>\n",
       "      <th></th>\n",
       "      <th></th>\n",
       "    </tr>\n",
       "  </thead>\n",
       "  <tbody>\n",
       "    <tr>\n",
       "      <th>2023-03-02 03:00:00</th>\n",
       "      <td>[{'id': 803, 'main': 'Clouds', 'description': ...</td>\n",
       "      <td>10000</td>\n",
       "      <td>0.0</td>\n",
       "      <td>2023-03-02 03:00:00</td>\n",
       "      <td>2.79</td>\n",
       "      <td>0.24</td>\n",
       "      <td>2.22</td>\n",
       "      <td>2.79</td>\n",
       "      <td>1024</td>\n",
       "      <td>1024</td>\n",
       "      <td>1021</td>\n",
       "      <td>83</td>\n",
       "      <td>0.57</td>\n",
       "      <td>52</td>\n",
       "      <td>2.55</td>\n",
       "      <td>30</td>\n",
       "      <td>8.20</td>\n",
       "      <td>n</td>\n",
       "      <td>NaN</td>\n",
       "      <td>NaN</td>\n",
       "    </tr>\n",
       "    <tr>\n",
       "      <th>2023-03-02 06:00:00</th>\n",
       "      <td>[{'id': 802, 'main': 'Clouds', 'description': ...</td>\n",
       "      <td>10000</td>\n",
       "      <td>0.0</td>\n",
       "      <td>2023-03-02 06:00:00</td>\n",
       "      <td>2.17</td>\n",
       "      <td>-0.65</td>\n",
       "      <td>1.72</td>\n",
       "      <td>2.17</td>\n",
       "      <td>1025</td>\n",
       "      <td>1025</td>\n",
       "      <td>1022</td>\n",
       "      <td>85</td>\n",
       "      <td>0.45</td>\n",
       "      <td>27</td>\n",
       "      <td>2.72</td>\n",
       "      <td>29</td>\n",
       "      <td>8.72</td>\n",
       "      <td>n</td>\n",
       "      <td>NaN</td>\n",
       "      <td>NaN</td>\n",
       "    </tr>\n",
       "  </tbody>\n",
       "</table>\n",
       "</div>"
      ],
      "text/plain": [
       "                                                               weather  \\\n",
       "dt                                                                       \n",
       "2023-03-02 03:00:00  [{'id': 803, 'main': 'Clouds', 'description': ...   \n",
       "2023-03-02 06:00:00  [{'id': 802, 'main': 'Clouds', 'description': ...   \n",
       "\n",
       "                     visibility  pop               dt_txt  main.temp  \\\n",
       "dt                                                                     \n",
       "2023-03-02 03:00:00       10000  0.0  2023-03-02 03:00:00       2.79   \n",
       "2023-03-02 06:00:00       10000  0.0  2023-03-02 06:00:00       2.17   \n",
       "\n",
       "                     main.feels_like  main.temp_min  main.temp_max  \\\n",
       "dt                                                                   \n",
       "2023-03-02 03:00:00             0.24           2.22           2.79   \n",
       "2023-03-02 06:00:00            -0.65           1.72           2.17   \n",
       "\n",
       "                     main.pressure  main.sea_level  main.grnd_level  \\\n",
       "dt                                                                    \n",
       "2023-03-02 03:00:00           1024            1024             1021   \n",
       "2023-03-02 06:00:00           1025            1025             1022   \n",
       "\n",
       "                     main.humidity  main.temp_kf  clouds.all  wind.speed  \\\n",
       "dt                                                                         \n",
       "2023-03-02 03:00:00             83          0.57          52        2.55   \n",
       "2023-03-02 06:00:00             85          0.45          27        2.72   \n",
       "\n",
       "                     wind.deg  wind.gust sys.pod  rain.3h  snow.3h  \n",
       "dt                                                                  \n",
       "2023-03-02 03:00:00        30       8.20       n      NaN      NaN  \n",
       "2023-03-02 06:00:00        29       8.72       n      NaN      NaN  "
      ]
     },
     "execution_count": 112,
     "metadata": {},
     "output_type": "execute_result"
    }
   ],
   "source": [
    "df.head(2)"
   ]
  },
  {
   "cell_type": "markdown",
   "id": "735164ca",
   "metadata": {},
   "source": [
    "Se puede ver que la primera columna tiene valores de lista y diccionarios dentro, por ello se dividen en diferentes columnas para continuar con un mejor EDA."
   ]
  },
  {
   "cell_type": "code",
   "execution_count": 113,
   "id": "cc0bc34f",
   "metadata": {},
   "outputs": [
    {
     "data": {
      "text/html": [
       "<div>\n",
       "<style scoped>\n",
       "    .dataframe tbody tr th:only-of-type {\n",
       "        vertical-align: middle;\n",
       "    }\n",
       "\n",
       "    .dataframe tbody tr th {\n",
       "        vertical-align: top;\n",
       "    }\n",
       "\n",
       "    .dataframe thead th {\n",
       "        text-align: right;\n",
       "    }\n",
       "</style>\n",
       "<table border=\"1\" class=\"dataframe\">\n",
       "  <thead>\n",
       "    <tr style=\"text-align: right;\">\n",
       "      <th></th>\n",
       "      <th>visibility</th>\n",
       "      <th>pop</th>\n",
       "      <th>dt_txt</th>\n",
       "      <th>main.temp</th>\n",
       "      <th>main.feels_like</th>\n",
       "      <th>main.temp_min</th>\n",
       "      <th>main.temp_max</th>\n",
       "      <th>main.pressure</th>\n",
       "      <th>main.sea_level</th>\n",
       "      <th>main.grnd_level</th>\n",
       "      <th>...</th>\n",
       "      <th>wind.speed</th>\n",
       "      <th>wind.deg</th>\n",
       "      <th>wind.gust</th>\n",
       "      <th>sys.pod</th>\n",
       "      <th>rain.3h</th>\n",
       "      <th>snow.3h</th>\n",
       "      <th>weather_id</th>\n",
       "      <th>weather_main</th>\n",
       "      <th>weather_description</th>\n",
       "      <th>weather_icon</th>\n",
       "    </tr>\n",
       "    <tr>\n",
       "      <th>dt</th>\n",
       "      <th></th>\n",
       "      <th></th>\n",
       "      <th></th>\n",
       "      <th></th>\n",
       "      <th></th>\n",
       "      <th></th>\n",
       "      <th></th>\n",
       "      <th></th>\n",
       "      <th></th>\n",
       "      <th></th>\n",
       "      <th></th>\n",
       "      <th></th>\n",
       "      <th></th>\n",
       "      <th></th>\n",
       "      <th></th>\n",
       "      <th></th>\n",
       "      <th></th>\n",
       "      <th></th>\n",
       "      <th></th>\n",
       "      <th></th>\n",
       "      <th></th>\n",
       "    </tr>\n",
       "  </thead>\n",
       "  <tbody>\n",
       "    <tr>\n",
       "      <th>2023-03-02 03:00:00</th>\n",
       "      <td>10000</td>\n",
       "      <td>0.0</td>\n",
       "      <td>2023-03-02 03:00:00</td>\n",
       "      <td>2.79</td>\n",
       "      <td>0.24</td>\n",
       "      <td>2.22</td>\n",
       "      <td>2.79</td>\n",
       "      <td>1024</td>\n",
       "      <td>1024</td>\n",
       "      <td>1021</td>\n",
       "      <td>...</td>\n",
       "      <td>2.55</td>\n",
       "      <td>30</td>\n",
       "      <td>8.20</td>\n",
       "      <td>n</td>\n",
       "      <td>NaN</td>\n",
       "      <td>NaN</td>\n",
       "      <td>803</td>\n",
       "      <td>Clouds</td>\n",
       "      <td>broken clouds</td>\n",
       "      <td>04n</td>\n",
       "    </tr>\n",
       "    <tr>\n",
       "      <th>2023-03-02 06:00:00</th>\n",
       "      <td>10000</td>\n",
       "      <td>0.0</td>\n",
       "      <td>2023-03-02 06:00:00</td>\n",
       "      <td>2.17</td>\n",
       "      <td>-0.65</td>\n",
       "      <td>1.72</td>\n",
       "      <td>2.17</td>\n",
       "      <td>1025</td>\n",
       "      <td>1025</td>\n",
       "      <td>1022</td>\n",
       "      <td>...</td>\n",
       "      <td>2.72</td>\n",
       "      <td>29</td>\n",
       "      <td>8.72</td>\n",
       "      <td>n</td>\n",
       "      <td>NaN</td>\n",
       "      <td>NaN</td>\n",
       "      <td>802</td>\n",
       "      <td>Clouds</td>\n",
       "      <td>scattered clouds</td>\n",
       "      <td>03n</td>\n",
       "    </tr>\n",
       "  </tbody>\n",
       "</table>\n",
       "<p>2 rows × 23 columns</p>\n",
       "</div>"
      ],
      "text/plain": [
       "                     visibility  pop               dt_txt  main.temp  \\\n",
       "dt                                                                     \n",
       "2023-03-02 03:00:00       10000  0.0  2023-03-02 03:00:00       2.79   \n",
       "2023-03-02 06:00:00       10000  0.0  2023-03-02 06:00:00       2.17   \n",
       "\n",
       "                     main.feels_like  main.temp_min  main.temp_max  \\\n",
       "dt                                                                   \n",
       "2023-03-02 03:00:00             0.24           2.22           2.79   \n",
       "2023-03-02 06:00:00            -0.65           1.72           2.17   \n",
       "\n",
       "                     main.pressure  main.sea_level  main.grnd_level  ...  \\\n",
       "dt                                                                   ...   \n",
       "2023-03-02 03:00:00           1024            1024             1021  ...   \n",
       "2023-03-02 06:00:00           1025            1025             1022  ...   \n",
       "\n",
       "                     wind.speed  wind.deg  wind.gust  sys.pod  rain.3h  \\\n",
       "dt                                                                       \n",
       "2023-03-02 03:00:00        2.55        30       8.20        n      NaN   \n",
       "2023-03-02 06:00:00        2.72        29       8.72        n      NaN   \n",
       "\n",
       "                     snow.3h weather_id  weather_main  weather_description  \\\n",
       "dt                                                                           \n",
       "2023-03-02 03:00:00      NaN        803        Clouds        broken clouds   \n",
       "2023-03-02 06:00:00      NaN        802        Clouds     scattered clouds   \n",
       "\n",
       "                     weather_icon  \n",
       "dt                                 \n",
       "2023-03-02 03:00:00           04n  \n",
       "2023-03-02 06:00:00           03n  \n",
       "\n",
       "[2 rows x 23 columns]"
      ]
     },
     "execution_count": 113,
     "metadata": {},
     "output_type": "execute_result"
    }
   ],
   "source": [
    "datos_divididos = df.weather.apply(lambda x: pd.Series(x[0])).add_prefix('weather_')\n",
    "\n",
    "df = pd.concat([df, datos_divididos], axis=1).drop(['weather'], axis=1)\n",
    "\n",
    "df.head(2)"
   ]
  },
  {
   "cell_type": "markdown",
   "id": "b2becab1",
   "metadata": {},
   "source": [
    "Al final del dataframe se pueden ver las nuevas columnas extraidas de la columna de listas."
   ]
  },
  {
   "cell_type": "code",
   "execution_count": 114,
   "id": "330554f3",
   "metadata": {},
   "outputs": [
    {
     "name": "stdout",
     "output_type": "stream",
     "text": [
      "['visibility' 'pop' 'dt_txt' 'main.temp' 'main.feels_like' 'main.temp_min'\n",
      " 'main.temp_max' 'main.pressure' 'main.sea_level' 'main.grnd_level'\n",
      " 'main.humidity' 'main.temp_kf' 'clouds.all' 'wind.speed' 'wind.deg'\n",
      " 'wind.gust' 'sys.pod' 'rain.3h' 'snow.3h' 'weather_id' 'weather_main'\n",
      " 'weather_description' 'weather_icon']\n"
     ]
    }
   ],
   "source": [
    "print(df.columns.values)"
   ]
  },
  {
   "cell_type": "markdown",
   "id": "d1aa8e8d",
   "metadata": {},
   "source": [
    "Se crean dos columnas a partir del indice dt, la cual es el datetime de mas arriba."
   ]
  },
  {
   "cell_type": "code",
   "execution_count": 115,
   "id": "45c467c4",
   "metadata": {},
   "outputs": [],
   "source": [
    "df['weekday'] = df.index.weekday\n",
    "df['hour'] = df.index.hour"
   ]
  },
  {
   "cell_type": "markdown",
   "id": "86c52bb2",
   "metadata": {},
   "source": [
    "Se hace un muestreo con frecuencia diaria."
   ]
  },
  {
   "cell_type": "code",
   "execution_count": 116,
   "id": "f1bad959",
   "metadata": {},
   "outputs": [],
   "source": [
    "df_daily = df.resample('D').mean()"
   ]
  },
  {
   "cell_type": "markdown",
   "id": "bb406d6c",
   "metadata": {},
   "source": [
    "Se hace un mapa de calor en base a la temperatura principal, dia de la semana y hora."
   ]
  },
  {
   "cell_type": "code",
   "execution_count": 117,
   "id": "c9a9c892",
   "metadata": {},
   "outputs": [
    {
     "data": {
      "text/plain": [
       "Text(0.5, 1.0, 'Temperatura media por día de la semana y hora del día')"
      ]
     },
     "execution_count": 117,
     "metadata": {},
     "output_type": "execute_result"
    },
    {
     "data": {
      "image/png": "[encoded data removed]",
      "text/plain": [
       "<Figure size 720x432 with 2 Axes>"
      ]
     },
     "metadata": {
      "needs_background": "light"
     },
     "output_type": "display_data"
    }
   ],
   "source": [
    "df_heatmap = df.pivot_table(values='main.temp', index='weekday', columns='hour')\n",
    "plt.figure(figsize=(10, 6))\n",
    "sns.heatmap(df_heatmap, cmap='coolwarm', annot=True, fmt='.1f', cbar_kws={'label': 'Temperatura (°C)'})\n",
    "plt.title('Temperatura media por día de la semana y hora del día')"
   ]
  },
  {
   "cell_type": "markdown",
   "id": "86d3e83f",
   "metadata": {},
   "source": [
    "Se puede visualizar a continuación la temperatura media diaria, sería bueno llevar un abrigo los siguientes dias."
   ]
  },
  {
   "cell_type": "code",
   "execution_count": 118,
   "id": "f1067c47",
   "metadata": {},
   "outputs": [
    {
     "data": {
      "image/png": "[encoded data removed]",
      "text/plain": [
       "<Figure size 720x432 with 1 Axes>"
      ]
     },
     "metadata": {
      "needs_background": "light"
     },
     "output_type": "display_data"
    }
   ],
   "source": [
    "plt.figure(figsize=(10, 6))\n",
    "plt.plot(df_daily.index, df_daily['main.temp'])\n",
    "plt.xlabel('Fecha')\n",
    "plt.ylabel('Temperatura (°C)')\n",
    "plt.title('Temperatura media diaria')\n",
    "plt.grid(True)"
   ]
  },
  {
   "cell_type": "markdown",
   "id": "759fadf7",
   "metadata": {},
   "source": [
    "Aqui se pueden ver un grafico de frecuencias respecto a los estados del cielo, es principalmente nublado o despejado con poca probabilidad de precipitaciones."
   ]
  },
  {
   "cell_type": "code",
   "execution_count": 119,
   "id": "bd3a0ef8",
   "metadata": {},
   "outputs": [
    {
     "data": {
      "image/png": "[encoded data removed]",
      "text/plain": [
       "<Figure size 720x432 with 1 Axes>"
      ]
     },
     "metadata": {
      "needs_background": "light"
     },
     "output_type": "display_data"
    }
   ],
   "source": [
    "df_barplot = df['weather_main'].value_counts()\n",
    "plt.figure(figsize=(10, 6))\n",
    "sns.barplot(x=df_barplot.index, y=df_barplot.values)\n",
    "plt.xlabel('Estado del cielo')\n",
    "plt.ylabel('Frecuencia')\n",
    "plt.title('Frecuencia de los diferentes estados del cielo')\n",
    "plt.grid(True)\n",
    "plt.show()"
   ]
  }
 ],
 "metadata": {
  "kernelspec": {
   "display_name": "Python 3 (ipykernel)",
   "language": "python",
   "name": "python3"
  },
  "language_info": {
   "codemirror_mode": {
    "name": "ipython",
    "version": 3
   },
   "file_extension": ".py",
   "mimetype": "text/x-python",
   "name": "python",
   "nbconvert_exporter": "python",
   "pygments_lexer": "ipython3",
   "version": "3.9.7"
  }
 },
 "nbformat": 4,
 "nbformat_minor": 5
}
